{
 "cells": [
  {
   "cell_type": "code",
   "execution_count": 2,
   "id": "09a32e1d",
   "metadata": {},
   "outputs": [],
   "source": [
    "weather_api_key=\"e219646aceb5e1384c0d023db7cd879c\""
   ]
  },
  {
   "cell_type": "code",
   "execution_count": null,
   "id": "53337041",
   "metadata": {},
   "outputs": [],
   "source": []
  }
 ],
 "metadata": {
  "kernelspec": {
   "display_name": "PythonData",
   "language": "python",
   "name": "pythondata"
  },
  "language_info": {
   "codemirror_mode": {
    "name": "ipython",
    "version": 3
   },
   "file_extension": ".py",
   "mimetype": "text/x-python",
   "name": "python",
   "nbconvert_exporter": "python",
   "pygments_lexer": "ipython3",
   "version": "3.7.10"
  }
 },
 "nbformat": 4,
 "nbformat_minor": 5
}
